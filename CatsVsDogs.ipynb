{
  "nbformat": 4,
  "nbformat_minor": 0,
  "metadata": {
    "colab": {
      "name": "CatsVsDogs.ipynb",
      "private_outputs": true,
      "provenance": [],
      "collapsed_sections": [],
      "mount_file_id": "10MducPCRnUstP9G78WMd5_23bF8MvdrI",
      "authorship_tag": "ABX9TyP7+hbTuqzhd4/r12Qq8nh6",
      "include_colab_link": true
    },
    "kernelspec": {
      "name": "python3",
      "display_name": "Python 3"
    },
    "language_info": {
      "name": "python"
    },
    "accelerator": "GPU"
  },
  "cells": [
    {
      "cell_type": "markdown",
      "metadata": {
        "id": "view-in-github",
        "colab_type": "text"
      },
      "source": [
        "<a href=\"https://colab.research.google.com/github/nikshingadiya/jupyter-Colab/blob/main/CatsVsDogs.ipynb\" target=\"_parent\"><img src=\"https://colab.research.google.com/assets/colab-badge.svg\" alt=\"Open In Colab\"/></a>"
      ]
    },
    {
      "cell_type": "code",
      "metadata": {
        "id": "GKKEjYnw7ZST"
      },
      "source": [
        "import os\n",
        "os.environ['KAGGLE_USERNAME'] = \"nikhilshingadiya\" # username from the json file\n",
        "os.environ['KAGGLE_KEY'] = \"5ab414af1f4549c200ab8a319e8eb592\"\n",
        "# Provide your key from the json file\n",
        "\n",
        "!kaggle competitions download -c dogs-vs-cats # api copied from kaggle"
      ],
      "execution_count": null,
      "outputs": []
    },
    {
      "cell_type": "code",
      "metadata": {
        "id": "kD5kZ8aJaAx-"
      },
      "source": [
        ""
      ],
      "execution_count": null,
      "outputs": []
    },
    {
      "cell_type": "code",
      "metadata": {
        "id": "pny9WxaOZGoh"
      },
      "source": [
        "from tensorflow.python.client import device_lib\n",
        "device_lib.list_local_devices()"
      ],
      "execution_count": null,
      "outputs": []
    },
    {
      "cell_type": "code",
      "metadata": {
        "id": "DzaHx9RhZadX"
      },
      "source": [
        "import tensorflow as tf\n",
        "tf.test.gpu_device_name()"
      ],
      "execution_count": null,
      "outputs": []
    },
    {
      "cell_type": "code",
      "metadata": {
        "id": "CZjA4pUzEpc0"
      },
      "source": [
        ""
      ],
      "execution_count": null,
      "outputs": []
    },
    {
      "cell_type": "code",
      "metadata": {
        "id": "MyehkWnO8tYk"
      },
      "source": [
        "from zipfile import ZipFile\n",
        "\n",
        "file_name = \"/content/train.zip\"\n",
        "\n",
        "with ZipFile(file_name, 'r') as zip:\n",
        "  zip.extractall()\n",
        "  print('done')"
      ],
      "execution_count": null,
      "outputs": []
    },
    {
      "cell_type": "code",
      "metadata": {
        "id": "CTiEXkKLbFju"
      },
      "source": [
        ""
      ],
      "execution_count": null,
      "outputs": []
    },
    {
      "cell_type": "code",
      "metadata": {
        "id": "v8ZjCxmcbg51"
      },
      "source": [
        ""
      ],
      "execution_count": null,
      "outputs": []
    },
    {
      "cell_type": "code",
      "metadata": {
        "id": "6vIn4Jy_Bk5O"
      },
      "source": [
        "# import shutil\n",
        "# shutil.rmtree('/content/cats_and_dogs_small')"
      ],
      "execution_count": null,
      "outputs": []
    },
    {
      "cell_type": "code",
      "metadata": {
        "id": "W9gky3j-_FtM"
      },
      "source": [
        "data_dir_list = os.listdir('/content/train')\n",
        "#print(data_dir_list)\n",
        "\n",
        "path, dirs, files = next(os.walk(\"/content/train\"))\n",
        "file_count = len(files)\n",
        "print(file_count)\n"
      ],
      "execution_count": null,
      "outputs": []
    },
    {
      "cell_type": "code",
      "metadata": {
        "id": "aH_mK5fO_NOL"
      },
      "source": [
        "original_dataset_dir = '/content/train'\n",
        "base_dir = '/content/cats_and_dogs_small'\n",
        "os.mkdir(base_dir) #make base directory"
      ],
      "execution_count": null,
      "outputs": []
    },
    {
      "cell_type": "code",
      "metadata": {
        "id": "XsSArcIRbSfl"
      },
      "source": [
        ""
      ],
      "execution_count": null,
      "outputs": []
    },
    {
      "cell_type": "code",
      "metadata": {
        "id": "fjpN6UNq_1iL"
      },
      "source": [
        "#Create directory paths\n",
        "\n",
        "train_dir = os.path.join(base_dir, 'train')\n",
        "os.mkdir(train_dir)\n",
        "\n",
        "validation_dir = os.path.join(base_dir, 'validation')\n",
        "os.mkdir(validation_dir)\n",
        "\n",
        "test_dir = os.path.join(base_dir, 'test')\n",
        "os.mkdir(test_dir)\n",
        "\n",
        "train_cats_dir = os.path.join(train_dir, 'cats')\n",
        "os.mkdir(train_cats_dir)\n",
        "\n",
        "train_dogs_dir = os.path.join(train_dir, 'dogs')\n",
        "os.mkdir(train_dogs_dir)\n",
        "\n",
        "validation_cats_dir = os.path.join(validation_dir, 'cats')\n",
        "os.mkdir(validation_cats_dir)\n",
        "\n",
        "validation_dogs_dir = os.path.join(validation_dir, 'dogs')\n",
        "os.mkdir(validation_dogs_dir)\n",
        "\n",
        "test_cats_dir = os.path.join(test_dir, 'cats')\n",
        "os.mkdir(test_cats_dir)\n",
        "\n",
        "test_dogs_dir = os.path.join(test_dir, 'dogs')\n",
        "os.mkdir(test_dogs_dir)"
      ],
      "execution_count": null,
      "outputs": []
    },
    {
      "cell_type": "code",
      "metadata": {
        "id": "2ekR4Xpv_Usa"
      },
      "source": [
        "import shutil\n",
        "\n",
        "def createFName(org_data_dir, train_data_class_dir, rangeInput1, rangeInput2):\n",
        "    \"This funciton is to create the source and desitnation paths and copy the data.\"\n",
        "    fnames = ['cat.{}.jpg'.format(i) for i in range(rangeInput1,rangeInput2)]\n",
        "    for fname in fnames:\n",
        "        src = os.path.join(org_data_dir, fname)\n",
        "        dst = os.path.join(train_data_class_dir, fname)\n",
        "        #print(src,dst)\n",
        "        shutil.copyfile(src, dst)\n",
        "\n",
        "# createFName(original_dataset_dir,train_cats_dir,0,1000)\n",
        "# createFName(original_dataset_dir,train_cats_dir,1000,1500)\n",
        "# createFName(original_dataset_dir,train_cats_dir,1500,2000)\n",
        "\n",
        "# createFName(original_dataset_dir,train_dogs_dir,0,1000)\n",
        "# createFName(original_dataset_dir,train_dogs_dir,1000,1500)\n",
        "# createFName(original_dataset_dir,train_dogs_dir,1500,2000)\n",
        "\n"
      ],
      "execution_count": null,
      "outputs": []
    },
    {
      "cell_type": "code",
      "metadata": {
        "id": "N6r31rIP_w6W"
      },
      "source": [
        "import shutil\n",
        "fnames = ['cat.{}.jpg'.format(i) for i in range(8000)]\n",
        "for fname in fnames:\n",
        "    src = os.path.join(original_dataset_dir, fname)\n",
        "    dst = os.path.join(train_cats_dir, fname)\n",
        "    #print(src,dst)\n",
        "    shutil.copyfile(src, dst)\n",
        "    \n",
        "fnames = ['cat.{}.jpg'.format(i) for i in range(8000, 12000)]\n",
        "for fname in fnames:\n",
        "    src = os.path.join(original_dataset_dir, fname)\n",
        "    dst = os.path.join(validation_cats_dir, fname)\n",
        "    shutil.copyfile(src, dst)\n",
        "\n",
        "fnames = ['cat.{}.jpg'.format(i) for i in range(8000, 12000)]\n",
        "for fname in fnames:\n",
        "    src = os.path.join(original_dataset_dir, fname)\n",
        "    dst = os.path.join(test_cats_dir, fname)\n",
        "    shutil.copyfile(src, dst)\n",
        "    \n",
        "fnames = ['dog.{}.jpg'.format(i) for i in range(8000)]\n",
        "for fname in fnames:\n",
        "    src = os.path.join(original_dataset_dir, fname)\n",
        "    dst = os.path.join(train_dogs_dir, fname)\n",
        "    shutil.copyfile(src, dst)\n",
        "\n",
        "fnames = ['dog.{}.jpg'.format(i) for i in range(8000,12000)]\n",
        "for fname in fnames:\n",
        "    src = os.path.join(original_dataset_dir, fname)\n",
        "    dst = os.path.join(validation_dogs_dir, fname)\n",
        "    shutil.copyfile(src, dst)\n",
        "\n",
        "fnames = ['dog.{}.jpg'.format(i) for i in range(8000,12000)]\n",
        "for fname in fnames:\n",
        "    src = os.path.join(original_dataset_dir, fname)\n",
        "    dst = os.path.join(test_dogs_dir, fname)\n",
        "    shutil.copyfile(src, dst)"
      ],
      "execution_count": null,
      "outputs": []
    },
    {
      "cell_type": "code",
      "metadata": {
        "id": "GJSHVw8uAMIx"
      },
      "source": [
        "print('total training cat images:', len(os.listdir(train_cats_dir)))\n",
        "print('total training dog images:', len(os.listdir(train_dogs_dir)))\n",
        "print('total validation cat images:', len(os.listdir(validation_cats_dir)))\n",
        "\n",
        "print('total validation dog images:', len(os.listdir(validation_dogs_dir)))\n",
        "print('total test cat images:', len(os.listdir(test_cats_dir)))\n",
        "print('total test dog images:', len(os.listdir(test_dogs_dir)))"
      ],
      "execution_count": null,
      "outputs": []
    },
    {
      "cell_type": "code",
      "metadata": {
        "id": "Lus3cp_vE335"
      },
      "source": [
        ""
      ],
      "execution_count": null,
      "outputs": []
    },
    {
      "cell_type": "code",
      "metadata": {
        "id": "ersYhDQ_Q_FH"
      },
      "source": [
        ""
      ],
      "execution_count": null,
      "outputs": []
    },
    {
      "cell_type": "code",
      "metadata": {
        "id": "XxR0FtNED6Y8"
      },
      "source": [
        "\n",
        "from google.colab.patches import cv2_imshow\n",
        "import matplotlib.pyplot as plt\n",
        "for i in range(1,5):\n",
        "  plt.figure()\n",
        "  plt.subplot(2,2,i)\n",
        "  path=\"/content/cats_and_dogs_small/train/cats/cat.{}.jpg\".format(i)\n",
        "  img=plt.imread(path)\n",
        "  plt.imshow(img)"
      ],
      "execution_count": null,
      "outputs": []
    },
    {
      "cell_type": "code",
      "metadata": {
        "id": "MSRW5DoWDekf"
      },
      "source": [
        "from keras import layers\n",
        "from keras import models\n",
        "\n",
        "#Created sequential models using Keras\n",
        "model = models.Sequential()\n",
        "model.add(layers.Conv2D(32, (3, 3), activation='relu',padding='same', input_shape=(150, 150, 3)))\n",
        "\n",
        "model.add(layers.MaxPooling2D((2, 2)))\n",
        "model.add(layers.Conv2D(64, (3, 3), activation='relu',padding='same'))\n",
        "model.add(layers.MaxPooling2D((2, 2)))\n",
        "model.add(layers.Conv2D(64, (3, 3), activation='relu',padding='same'))\n",
        "model.add(layers.MaxPooling2D((2, 2)))\n",
        "\n",
        "\n",
        "# model.add(layers.Conv2D(128, (3, 3), activation='relu'))\n",
        "# model.add(layers.MaxPooling2D((2, 2)))\n",
        "\n",
        "\n",
        "\n",
        "model.add(layers.Flatten())\n",
        "model.add(layers.Dropout(0.5))\n",
        "model.add(layers.Dense(512, activation='relu'))\n",
        "model.add(layers.Dense(1, activation='sigmoid'))\n",
        "model.summary()"
      ],
      "execution_count": null,
      "outputs": []
    },
    {
      "cell_type": "code",
      "metadata": {
        "id": "zX-4nlpuNHYG"
      },
      "source": [
        ""
      ],
      "execution_count": null,
      "outputs": []
    },
    {
      "cell_type": "code",
      "metadata": {
        "id": "FL_UpAGbDn1T"
      },
      "source": [
        "\n",
        "from keras.preprocessing.image import ImageDataGenerator\n",
        "\n",
        "train_datagen = ImageDataGenerator(rescale=1./255,  shear_range=0.1,\n",
        "                                                    zoom_range=0.2,\n",
        "\n",
        "                                                    rotation_range=15,\n",
        "                                                    horizontal_flip=True,\n",
        "                                                    width_shift_range=0.1,\n",
        "                                                    height_shift_range=0.1,\n",
        "                                                  \n",
        "                                                    \n",
        "                                   \n",
        "                                   \n",
        "                                   )\n",
        "test_datagen = ImageDataGenerator(rescale=1./255,\n",
        "                                  shear_range=0.1,\n",
        "                                  zoom_range=0.2,\n",
        "\n",
        "                                  rotation_range=15,\n",
        "                                  horizontal_flip=True,\n",
        "                                  width_shift_range=0.1,\n",
        "                                  height_shift_range=0.1,\n",
        "                                \n",
        "                                  )\n",
        "\n",
        "validation_datagen = ImageDataGenerator(rescale=1./255)\n",
        "\n",
        "oringal_test_datagent=ImageDataGenerator(rescale=1./255)\n",
        "train_generator = train_datagen.flow_from_directory(train_dir,\n",
        "                                                    target_size=(150, 150), \n",
        "                                                    batch_size=20,\n",
        "                                                    shuffle=True,\n",
        "                                                   \n",
        "                                                    class_mode='binary')\n",
        "\n",
        "validation_generator = validation_datagen.flow_from_directory(validation_dir,\n",
        "                                                        target_size=(150, 150),\n",
        "                                                        batch_size=20,\n",
        "                                                         \n",
        "                                                        class_mode='binary')\n",
        "\n",
        "test_generator=oringal_test_datagent.flow_from_directory(test_dir,\n",
        "                                                        target_size=(150, 150),\n",
        "                                                        batch_size=20,\n",
        "                                                        \n",
        "                                                   \n",
        "                                                        class_mode='binary',shuffle=False)"
      ],
      "execution_count": null,
      "outputs": []
    },
    {
      "cell_type": "markdown",
      "metadata": {
        "id": "TCO3Gv99NIRC"
      },
      "source": [
        "## model 2\n"
      ]
    },
    {
      "cell_type": "code",
      "metadata": {
        "id": "KraS-lQV-1u-"
      },
      "source": [
        "\n",
        "# from keras.layers import Conv2D\n",
        "# from keras.layers import Conv2D,MaxPooling2D,\\\n",
        "#      Dropout,Flatten,Dense,Activation,\\\n",
        "#      BatchNormalization\n",
        "# model2=models.Sequential()\n",
        "\n",
        "# model2.add(Conv2D(32,(3,3),activation='relu',input_shape=(150, 150, 3)))\n",
        "# model2.add(BatchNormalization())\n",
        "# model2.add(MaxPooling2D(pool_size=(2,2)))\n",
        "# model2.add(Dropout(0.25))\n",
        "\n",
        "# model2.add(Conv2D(64,(3,3),activation='relu'))\n",
        "# model2.add(BatchNormalization())\n",
        "# model2.add(MaxPooling2D(pool_size=(2,2)))\n",
        "# model2.add(Dropout(0.25))\n",
        "\n",
        "# model2.add(Conv2D(128,(3,3),activation='relu'))\n",
        "# model2.add(BatchNormalization())\n",
        "# model2.add(MaxPooling2D(pool_size=(2,2)))\n",
        "# model2.add(Dropout(0.25))\n",
        "\n",
        "# model2.add(Flatten())\n",
        "# model2.add(Dense(512,activation='relu'))\n",
        "# model2.add(BatchNormalization())\n",
        "# model2.add(Dropout(0.5))\n",
        "# model2.add(layers.Dense(1, activation='sigmoid'))\n",
        "# model2.compile(loss=\"binary_crossentropy\" ,\n",
        "#               optimizer=optimizers.Adam(),\n",
        "#               metrics=['acc'])"
      ],
      "execution_count": null,
      "outputs": []
    },
    {
      "cell_type": "code",
      "metadata": {
        "id": "1qyS9AUdRNuX"
      },
      "source": [
        ""
      ],
      "execution_count": null,
      "outputs": []
    },
    {
      "cell_type": "markdown",
      "metadata": {
        "id": "u-1vbYmPRROh"
      },
      "source": [
        "## Compile m1\n"
      ]
    },
    {
      "cell_type": "code",
      "metadata": {
        "id": "l5_FIo7SDi-f"
      },
      "source": [
        "from keras.metrics import Recall\n",
        "from keras import optimizers\n",
        "import tensorflow as tf\n",
        "model.compile(loss=\"binary_crossentropy\" ,\n",
        "              optimizer=optimizers.Adam(),\n",
        "              metrics=['acc'])"
      ],
      "execution_count": null,
      "outputs": []
    },
    {
      "cell_type": "code",
      "metadata": {
        "id": "voQ-_yNcDuQI"
      },
      "source": [
        "history = model.fit_generator(train_generator,steps_per_epoch=400,\n",
        "                              \n",
        "                              epochs=10,\n",
        "                              validation_data=validation_generator,\n",
        "                              validation_steps=7)"
      ],
      "execution_count": null,
      "outputs": []
    },
    {
      "cell_type": "code",
      "metadata": {
        "id": "HdDfq6AxAZ4T"
      },
      "source": [
        "# history = model2.fit_generator(train_generator,steps_per_epoch=100,\n",
        "                              \n",
        "#                               epochs=4,\n",
        "#                               validation_data=validation_generator,\n",
        "#                               validation_steps=7)"
      ],
      "execution_count": null,
      "outputs": []
    },
    {
      "cell_type": "markdown",
      "metadata": {
        "id": "TevaPo8o-M8x"
      },
      "source": [
        ""
      ]
    },
    {
      "cell_type": "code",
      "metadata": {
        "id": "h6f3HsQ-w_IN"
      },
      "source": [
        "# import matplotlib.pyplot as plt\n",
        "# for i in train_generator:\n",
        "   \n",
        "#     plt.imshow(i[0][0])\n",
        "#     plt.pause(2)\n"
      ],
      "execution_count": null,
      "outputs": []
    },
    {
      "cell_type": "code",
      "metadata": {
        "id": "6ubVU3qWx1M3"
      },
      "source": [
        "import matplotlib.pyplot as plt\n",
        "\n",
        "acc = history.history['acc']\n",
        "val_acc = history.history['val_acc']\n",
        "loss = history.history['loss']\n",
        "val_loss = history.history['val_loss']\n",
        "\n",
        "epochs = range(1, len(acc) + 1)\n",
        "\n",
        "plt.plot(epochs, acc, 'bo', label='Training acc')\n",
        "plt.plot(epochs, val_acc, 'b', label='Validation acc')\n",
        "plt.title('Training and validation accuracy')\n",
        "plt.legend()\n",
        "\n",
        "plt.figure()\n",
        "\n",
        "plt.plot(epochs, loss, 'bo', label='Training loss')\n",
        "plt.plot(epochs, val_loss, 'b', label='Validation loss')\n",
        "plt.title('Training and validation loss')\n",
        "plt.legend()\n",
        "\n",
        "plt.show()"
      ],
      "execution_count": null,
      "outputs": []
    },
    {
      "cell_type": "code",
      "metadata": {
        "id": "vhwforG1Hl9b"
      },
      "source": [
        "model.save(\"/content/drive/MyDrive/Colab Notebooks/CNN2/cats_and_dogs_8000_final_4_CNN1.h5\")"
      ],
      "execution_count": null,
      "outputs": []
    },
    {
      "cell_type": "code",
      "metadata": {
        "id": "4ZfJINzSVGvu"
      },
      "source": [
        ""
      ],
      "execution_count": null,
      "outputs": []
    },
    {
      "cell_type": "code",
      "metadata": {
        "id": "Zr5OxpalSZJF"
      },
      "source": [
        "import numpy as np\n",
        "from tensorflow.keras.preprocessing import image\n",
        "from tensorflow.keras.applications.resnet50 import preprocess_input, decode_predictions"
      ],
      "execution_count": null,
      "outputs": []
    },
    {
      "cell_type": "code",
      "metadata": {
        "id": "oD9scXHXSHzB"
      },
      "source": [
        "img = image.load_img(\"/content/cats_and_dogs_small/test/dogs/dog.10116.jpg\", target_size=(150 ,150))"
      ],
      "execution_count": null,
      "outputs": []
    },
    {
      "cell_type": "code",
      "metadata": {
        "id": "9vXtUGckUVPQ"
      },
      "source": [
        "img"
      ],
      "execution_count": null,
      "outputs": []
    },
    {
      "cell_type": "code",
      "metadata": {
        "id": "PSgxcaB1Ud6d"
      },
      "source": [
        "img_array = image.img_to_array(img)\n",
        "\n",
        "img_batch = np.expand_dims(img_array, axis=0)"
      ],
      "execution_count": null,
      "outputs": []
    },
    {
      "cell_type": "code",
      "metadata": {
        "id": "hVaXcznyWBV0"
      },
      "source": [
        ""
      ],
      "execution_count": null,
      "outputs": []
    },
    {
      "cell_type": "code",
      "metadata": {
        "id": "dfvlqwgYVysY"
      },
      "source": [
        ""
      ],
      "execution_count": null,
      "outputs": []
    },
    {
      "cell_type": "code",
      "metadata": {
        "id": "pk0JRtJ2Week"
      },
      "source": [
        "img_array.shape"
      ],
      "execution_count": null,
      "outputs": []
    },
    {
      "cell_type": "code",
      "metadata": {
        "id": "86NnseKWUh3r"
      },
      "source": [
        "img_batch.shape"
      ],
      "execution_count": null,
      "outputs": []
    },
    {
      "cell_type": "code",
      "metadata": {
        "id": "w9HnLeLF7hAH"
      },
      "source": [
        "for i  in ImageDataGenerator(rescale=1./255,\n",
        "                                  shear_range=0.1,\n",
        "                                  zoom_range=0.2,\n",
        "\n",
        "                                  rotation_range=15,\n",
        "                                  horizontal_flip=True,\n",
        "                                  width_shift_range=0.1,\n",
        "                                  height_shift_range=0.1,\n",
        "                                \n",
        "                                  ).flow(img_batch):\n",
        "    x=i\n",
        "    break\n"
      ],
      "execution_count": null,
      "outputs": []
    },
    {
      "cell_type": "code",
      "metadata": {
        "id": "BLGEqRvz8TLR"
      },
      "source": [
        "x.shape"
      ],
      "execution_count": null,
      "outputs": []
    },
    {
      "cell_type": "code",
      "metadata": {
        "id": "Lwtyxlx28XbO"
      },
      "source": [
        "plt.imshow(x[0])"
      ],
      "execution_count": null,
      "outputs": []
    },
    {
      "cell_type": "code",
      "metadata": {
        "id": "CzdkiEhdUmfn"
      },
      "source": [
        "img_preprocessed = preprocess_input(img_batch)"
      ],
      "execution_count": null,
      "outputs": []
    },
    {
      "cell_type": "code",
      "metadata": {
        "id": "Sf70Wc9DVIuv"
      },
      "source": [
        "\n",
        "model.predict(x)\n"
      ],
      "execution_count": null,
      "outputs": []
    },
    {
      "cell_type": "code",
      "metadata": {
        "id": "kIwrCkoEss-t"
      },
      "source": [
        "import tensorflow as tf\n"
      ],
      "execution_count": null,
      "outputs": []
    },
    {
      "cell_type": "code",
      "metadata": {
        "id": "Y8W2PABntozM"
      },
      "source": [
        "def prediction(model_obj,image_path):\n",
        "  from tensorflow.keras.preprocessing import image\n",
        "  from tensorflow.keras.applications.resnet50 import preprocess_input, decode_predictions\n",
        "  import matplotlib.pyplot as plt\n",
        "  import numpy  as np\n",
        "\n",
        "  img = image.load_img(image_path, target_size=(150 ,150))\n",
        "  \n",
        "  \n",
        "  img_array = image.img_to_array(img)\n",
        "  img_batch = np.expand_dims(img_array, axis=0)\n",
        "  img_batch=img_batch/255\n",
        "  x=model_obj.predict(img_batch)[0]\n",
        "  print(x)\n",
        "  if x<0.472:\n",
        "     plt.imshow(img)\n",
        "     plt.title(\"Cat\")\n",
        "     plt.axis(\"off\")\n",
        "     plt.pause(2)\n",
        "     return None\n",
        "  else:\n",
        "    plt.imshow(img)\n",
        "    plt.title(\"Dog\")\n",
        "    plt.axis(\"off\")\n",
        "    plt.pause(2)\n",
        "    return None\n",
        "  \n",
        "  "
      ],
      "execution_count": null,
      "outputs": []
    },
    {
      "cell_type": "code",
      "metadata": {
        "id": "Inf2AGVUvPTa"
      },
      "source": [
        "for i in range(60,80):\n",
        "  path_ani=\"/content/cats_and_dogs_small/test/dogs/dog.102{}.jpg\".format(i)\n",
        "  print(prediction(model,path_ani))\n",
        "  "
      ],
      "execution_count": null,
      "outputs": []
    },
    {
      "cell_type": "code",
      "metadata": {
        "id": "fvUrhWf-wVrO"
      },
      "source": [
        "for i in range(30,60):\n",
        "  path_ani=\"/content/cats_and_dogs_small/test/cats/cat.101{}.jpg\".format(i)\n",
        "  print(prediction(model,path_ani))"
      ],
      "execution_count": null,
      "outputs": []
    },
    {
      "cell_type": "code",
      "metadata": {
        "id": "SZUKqjM5YT03"
      },
      "source": [
        ""
      ],
      "execution_count": null,
      "outputs": []
    },
    {
      "cell_type": "code",
      "metadata": {
        "id": "QBpoTp4Aohhj"
      },
      "source": [
        "path_savan=\"/content/cat_savan.jpg\"\n",
        "\n",
        "prediction(model,path_savan)"
      ],
      "execution_count": null,
      "outputs": []
    },
    {
      "cell_type": "code",
      "metadata": {
        "id": "CGgSZoTdZruB"
      },
      "source": [
        ""
      ],
      "execution_count": null,
      "outputs": []
    },
    {
      "cell_type": "code",
      "metadata": {
        "id": "EW3ktp30txyY"
      },
      "source": [
        "scores=model.predict_generator(test_generator,workers=3)"
      ],
      "execution_count": null,
      "outputs": []
    },
    {
      "cell_type": "code",
      "metadata": {
        "id": "QMN-BUB2Ipxy"
      },
      "source": [
        "scores"
      ],
      "execution_count": null,
      "outputs": []
    },
    {
      "cell_type": "code",
      "metadata": {
        "id": "yqszoZApoGQJ"
      },
      "source": [
        "model.save(base_model)"
      ],
      "execution_count": null,
      "outputs": []
    },
    {
      "cell_type": "code",
      "metadata": {
        "id": "gkHwY2Lith5B"
      },
      "source": [
        "base_model=\"/content/drive/MyDrive/Colab \"+\"Notebooks/CNN2/cats_and_dogs_8000.h5\"\n"
      ],
      "execution_count": null,
      "outputs": []
    },
    {
      "cell_type": "code",
      "metadata": {
        "id": "nLHO_f0Qtew5"
      },
      "source": [
        "import tensorflow as tf"
      ],
      "execution_count": null,
      "outputs": []
    },
    {
      "cell_type": "code",
      "metadata": {
        "id": "xYJ6E2dHs0dB"
      },
      "source": [
        "md=tf.keras.models.load_model(base_model)"
      ],
      "execution_count": null,
      "outputs": []
    },
    {
      "cell_type": "code",
      "metadata": {
        "id": "zXiTgvT4IDTa"
      },
      "source": [
        "md.summary()"
      ],
      "execution_count": null,
      "outputs": []
    },
    {
      "cell_type": "markdown",
      "metadata": {
        "id": "iXY3BX03Ni42"
      },
      "source": [
        ""
      ]
    },
    {
      "cell_type": "code",
      "metadata": {
        "id": "CJg3S2o1JYf9"
      },
      "source": [
        "plt.imshow(test_generator[0][0][2])"
      ],
      "execution_count": null,
      "outputs": []
    },
    {
      "cell_type": "code",
      "metadata": {
        "id": "xFrrlITxZe7P"
      },
      "source": [
        ""
      ],
      "execution_count": null,
      "outputs": []
    },
    {
      "cell_type": "markdown",
      "metadata": {
        "id": "ogfDnrzcZgHF"
      },
      "source": [
        "## Classification Report\n"
      ]
    },
    {
      "cell_type": "code",
      "metadata": {
        "id": "6Ge7cTl3b6pz"
      },
      "source": [
        "test_labels=test_generator.classes"
      ],
      "execution_count": null,
      "outputs": []
    },
    {
      "cell_type": "code",
      "metadata": {
        "id": "gvyzC9K7b-Kt"
      },
      "source": [
        "test_labels"
      ],
      "execution_count": null,
      "outputs": []
    },
    {
      "cell_type": "code",
      "metadata": {
        "id": "hOLIvLnOKjhZ"
      },
      "source": [
        "from sklearn.metrics import classification_report\n",
        "import numpy as np\n",
        "# get the ground truth of your data. \n",
        "\n",
        "\n",
        "# predict the probability distribution of the data\n",
        "predictions=model.predict_proba(test_generator)\n"
      ],
      "execution_count": null,
      "outputs": []
    },
    {
      "cell_type": "code",
      "metadata": {
        "id": "uqSqvZSsnXxJ"
      },
      "source": [
        "predictions"
      ],
      "execution_count": null,
      "outputs": []
    },
    {
      "cell_type": "code",
      "metadata": {
        "id": "W6_g0EYlVxp5"
      },
      "source": [
        "from sklearn.metrics import roc_curve\n",
        "\n",
        "# roc curve for models\n",
        "fpr1, tpr1, thresh1 = roc_curve(test_labels, predictions.flatten(), pos_label=1)\n",
        "from sklearn.metrics import roc_auc_score\n",
        "\n",
        "# auc scores\n",
        "auc_score = roc_auc_score(test_labels, predictions)"
      ],
      "execution_count": null,
      "outputs": []
    },
    {
      "cell_type": "code",
      "metadata": {
        "id": "QzYCSs2qspv1"
      },
      "source": [
        "plt.plot(fpr1, tpr1, linestyle='--',color='green', label='CNN')\n",
        "\n",
        "# title\n",
        "plt.title(f'ROC curve'+f\" AUC Score={auc_score}\")\n",
        "# x label\n",
        "\n",
        "plt.xlabel('False Positive Rate')\n",
        "# y label\n",
        "plt.ylabel('True Positive rate')\n",
        "\n",
        "plt.legend(loc='best')\n",
        "# plt.savefig('ROC',dpi=300)\n",
        "plt.show();"
      ],
      "execution_count": null,
      "outputs": []
    },
    {
      "cell_type": "code",
      "metadata": {
        "id": "UUM79mD9umbg"
      },
      "source": [
        "gmeans = np.sqrt(tpr1 * (1-fpr1))\n",
        "# locate the index of the largest g-mean\n",
        "ix = np.argmax(gmeans)\n",
        "print('Best Threshold=%f, G-Mean=%.3f' % (thresh1[ix], gmeans[ix]))"
      ],
      "execution_count": null,
      "outputs": []
    },
    {
      "cell_type": "code",
      "metadata": {
        "id": "lAJcnJSpVVZS"
      },
      "source": [
        ""
      ],
      "execution_count": null,
      "outputs": []
    },
    {
      "cell_type": "code",
      "metadata": {
        "id": "Bh_uv4re-ZLH"
      },
      "source": [
        "plt.boxplot(predictions)\n",
        "plt.show()\n"
      ],
      "execution_count": null,
      "outputs": []
    },
    {
      "cell_type": "code",
      "metadata": {
        "id": "8Bc7RM3Sf9p-"
      },
      "source": [
        "\n",
        "# get the class with highest probability for each sam\n",
        "thresold =np.vectorize(lambda x : 1 if x > 0.471408 else 0)\n",
        "y_pred=thresold(predictions.flatten())\n",
        "\n",
        "\n"
      ],
      "execution_count": null,
      "outputs": []
    },
    {
      "cell_type": "code",
      "metadata": {
        "id": "qyIWhXcHodyE"
      },
      "source": [
        ""
      ],
      "execution_count": null,
      "outputs": []
    },
    {
      "cell_type": "code",
      "metadata": {
        "id": "o8vks9zKg2tp"
      },
      "source": [
        "\n",
        "# get the classification report\n",
        "print(classification_report(test_labels, y_pred))"
      ],
      "execution_count": null,
      "outputs": []
    },
    {
      "cell_type": "code",
      "metadata": {
        "id": "tUUL0VoAePnp"
      },
      "source": [
        "predictions.flatten()"
      ],
      "execution_count": null,
      "outputs": []
    },
    {
      "cell_type": "code",
      "metadata": {
        "id": "f_lwwEa39Y83"
      },
      "source": [
        ""
      ],
      "execution_count": null,
      "outputs": []
    },
    {
      "cell_type": "code",
      "metadata": {
        "id": "5KuVQrs8VkD9"
      },
      "source": [
        ""
      ],
      "execution_count": null,
      "outputs": []
    },
    {
      "cell_type": "code",
      "metadata": {
        "id": "CLdpoIfP1XwU"
      },
      "source": [
        ""
      ],
      "execution_count": null,
      "outputs": []
    }
  ]
}