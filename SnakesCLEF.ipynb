{
  "nbformat": 4,
  "nbformat_minor": 0,
  "metadata": {
    "colab": {
      "name": "SnakesCLEF.ipynb",
      "private_outputs": true,
      "provenance": [],
      "collapsed_sections": [],
      "include_colab_link": true
    },
    "kernelspec": {
      "name": "python3",
      "display_name": "Python 3"
    },
    "accelerator": "TPU"
  },
  "cells": [
    {
      "cell_type": "markdown",
      "metadata": {
        "id": "view-in-github",
        "colab_type": "text"
      },
      "source": [
        "<a href=\"https://colab.research.google.com/github/nikshingadiya/jupyter-Colab/blob/main/SnakesCLEF.ipynb\" target=\"_parent\"><img src=\"https://colab.research.google.com/assets/colab-badge.svg\" alt=\"Open In Colab\"/></a>"
      ]
    },
    {
      "cell_type": "markdown",
      "metadata": {
        "id": "fOsJQCoRvTRY"
      },
      "source": [
        "# Download dataset example for SnakesCLEF 🛠"
      ]
    },
    {
      "cell_type": "code",
      "metadata": {
        "id": "UjPvyUK3Sss6"
      },
      "source": [
        "# import shutil\n",
        "# shutil.rmtree(\"/content/train\")"
      ],
      "execution_count": null,
      "outputs": []
    },
    {
      "cell_type": "code",
      "metadata": {
        "id": "jCKS_X_KvTRY"
      },
      "source": [
        "!pip install -U aicrowd-cli==0.1"
      ],
      "execution_count": null,
      "outputs": []
    },
    {
      "cell_type": "code",
      "metadata": {
        "id": "ekJZdhqrvTRa"
      },
      "source": [
        "# Get your API key from https://www.aicrowd.com/participants/me\n",
        "API_KEY = \"75129038f2ede189abb9876705f535f5\"\n",
        "!aicrowd login --api-key $API_KEY"
      ],
      "execution_count": null,
      "outputs": []
    },
    {
      "cell_type": "code",
      "metadata": {
        "id": "FwZgcLsNDej_"
      },
      "source": [
        "!aicrowd dataset list --challenge snakeclef2021-snake-species-identification-challenge"
      ],
      "execution_count": null,
      "outputs": []
    },
    {
      "cell_type": "code",
      "metadata": {
        "id": "W_YrWObvmSr8"
      },
      "source": [
        "# # Download file at index=0 (or multiple indexes)\n",
        "# !aicrowd dataset download --challenge snakeclef2021-snake-species-identification-challenge 0\n",
        "# !aicrowd dataset download --challenge snakeclef2021-snake-species-identification-challenge 0 1"
      ],
      "execution_count": null,
      "outputs": []
    },
    {
      "cell_type": "code",
      "metadata": {
        "id": "sxOPHCFvm8x2"
      },
      "source": [
        "# # Download file by file name (can specify multiple at same time too)\n",
        "# !aicrowd dataset download --challenge snakeclef2021-snake-species-identification-challenge \"Species to Country Map File\"\n",
        "# !aicrowd dataset download --challenge snakeclef2021-snake-species-identification-challenge \"Species to Country Map File\" \"BaseLine Notebook - Training Script\""
      ],
      "execution_count": null,
      "outputs": []
    },
    {
      "cell_type": "code",
      "metadata": {
        "id": "CzqEA8Ng7okS"
      },
      "source": [
        "# !aicrowd dataset download --challenge snakeclef2021-snake-species-identification-challenge 16"
      ],
      "execution_count": null,
      "outputs": []
    },
    {
      "cell_type": "code",
      "metadata": {
        "id": "6mwhe8_gwkgW"
      },
      "source": [
        "import os\n",
        "os.environ['KAGGLE_USERNAME'] = \"nikhilshingadiya\" # username from the json file\n",
        "os.environ['KAGGLE_KEY'] = \"5ab414af1f4549c200ab8a319e8eb592\"\n",
        "# Provide your key from the json file\n",
        "\n",
        "!kaggle datasets download -d deividt/snakeclef2021 # api copied from kaggle"
      ],
      "execution_count": null,
      "outputs": []
    },
    {
      "cell_type": "code",
      "metadata": {
        "id": "bGVhxk1PH2o2"
      },
      "source": [
        "import shutil\n",
        "shutil.unpack_archive(\"train.tar.gz\", \".\")"
      ],
      "execution_count": null,
      "outputs": []
    },
    {
      "cell_type": "code",
      "metadata": {
        "id": "wBdzwiunc4Ea"
      },
      "source": [
        "!aicrowd dataset download --challenge snakeclef2021-snake-species-identification-challenge 4"
      ],
      "execution_count": null,
      "outputs": []
    },
    {
      "cell_type": "code",
      "metadata": {
        "id": "Eb96oQZGIJwN"
      },
      "source": [
        "import pandas as pd\n",
        "import os "
      ],
      "execution_count": null,
      "outputs": []
    },
    {
      "cell_type": "code",
      "metadata": {
        "id": "lK-UAGzY_0Fv"
      },
      "source": [
        "os.rename(\"/content/38c397f7-b983-495f-9bb5-a94d588f9a28_SnakeCLEF2021_train_metadata_PROD.csv\",\"/content/SnakeCLEF2021_train_metadata_PROD.csv\" )"
      ],
      "execution_count": null,
      "outputs": []
    },
    {
      "cell_type": "code",
      "metadata": {
        "id": "r1DBZicJIL-B"
      },
      "source": [
        "df_4=pd.read_csv(\"/content/SnakeCLEF2021_train_metadata_PROD.csv\")"
      ],
      "execution_count": null,
      "outputs": []
    },
    {
      "cell_type": "code",
      "metadata": {
        "id": "xJ9FRdUpAp_z"
      },
      "source": [
        "df_4.info()"
      ],
      "execution_count": null,
      "outputs": []
    },
    {
      "cell_type": "code",
      "metadata": {
        "id": "R7QAYDGuBgkt"
      },
      "source": [
        "# from google.colab import drive\n",
        "# drive.mount('/content/drive')\n"
      ],
      "execution_count": null,
      "outputs": []
    },
    {
      "cell_type": "code",
      "metadata": {
        "id": "-YfeovTYBt_F"
      },
      "source": [
        "# from google.colab import drive\n",
        "# drive.mount('/content/drive')"
      ],
      "execution_count": null,
      "outputs": []
    },
    {
      "cell_type": "code",
      "metadata": {
        "id": "9Y6TE7QyIVGZ"
      },
      "source": [
        "df_4.head()"
      ],
      "execution_count": null,
      "outputs": []
    },
    {
      "cell_type": "code",
      "metadata": {
        "id": "SPOwPpG8h_uK"
      },
      "source": [
        "# import shutil\n",
        "# shutil.unpack_archive(\"train.tar.gz\", \".\")"
      ],
      "execution_count": null,
      "outputs": []
    },
    {
      "cell_type": "code",
      "metadata": {
        "id": "qP9wmxy_KFK_"
      },
      "source": [
        "count_instance=[]\n",
        "for i in os.listdir(\"/content/train\"):\n",
        "  count_instance.append(len(os.listdir(\"/content/train/\"+i)))"
      ],
      "execution_count": null,
      "outputs": []
    },
    {
      "cell_type": "code",
      "metadata": {
        "id": "gR65lfnmuA6x"
      },
      "source": [
        "min(count_instance)"
      ],
      "execution_count": null,
      "outputs": []
    },
    {
      "cell_type": "code",
      "metadata": {
        "id": "bNje6byYxBur"
      },
      "source": [
        "from google.colab import drive\n",
        "drive.mount('/content/gdrive')"
      ],
      "execution_count": null,
      "outputs": []
    },
    {
      "cell_type": "code",
      "metadata": {
        "id": "MI-MnMC6xN6U"
      },
      "source": [
        "snake_label=pd.read_csv(\"/content/gdrive/MyDrive/Colab \"+\"Notebooks/snake/snake_label_only.csv\")"
      ],
      "execution_count": null,
      "outputs": []
    },
    {
      "cell_type": "code",
      "metadata": {
        "id": "dR7RWnc1jrE9"
      },
      "source": [
        "snake_label=snake_label.rename(columns={\"higher_snake_family\":\"genus\"})\n",
        "right_merged=pd.merge(df_4,snake_label,how=\"right\",on=[\"genus\"])\n",
        "right_merged=right_merged.dropna()\n",
        "right_merged=right_merged[right_merged['binomial']==right_merged[\"snake_sub_family\"]]\n",
        "right_merged=right_merged.reset_index(0,drop=True)\n",
        "right_merged=right_merged.dropna()\n",
        "right_merged.info()"
      ],
      "execution_count": null,
      "outputs": []
    },
    {
      "cell_type": "code",
      "metadata": {
        "id": "VzXWzwgSp1RL"
      },
      "source": [
        "class_dict=dict(right_merged[\"class_id\"].value_counts())"
      ],
      "execution_count": null,
      "outputs": []
    },
    {
      "cell_type": "code",
      "metadata": {
        "id": "d_vmcrhxpCym"
      },
      "source": [
        "list_data_frame_sample=[]\n",
        "for i in range(10):\n",
        "  class_count_150=dict(filter(lambda x: x[0] if x[1]>250 else 0 ,class_dict.items()))\n",
        "  df_count_150_0=right_merged[right_merged['class_id'].isin(list(class_count_150.keys()))]\n",
        "  df_count_150=df_count_150_0.groupby('class_id',as_index=False).apply(lambda x: x.sample(n=250,random_state=i*40+1))\n",
        "  df_count_150.reset_index(drop=True)\n",
        "  list_data_frame_sample.append(df_count_150)"
      ],
      "execution_count": null,
      "outputs": []
    },
    {
      "cell_type": "code",
      "metadata": {
        "id": "J1B8YfPvGAqa"
      },
      "source": [
        "df_count_150.info()"
      ],
      "execution_count": null,
      "outputs": []
    },
    {
      "cell_type": "code",
      "metadata": {
        "id": "MAAPVCbPFgO2"
      },
      "source": [
        "# from google.colab import files\n",
        "\n",
        "# for i,j in enumerate(list_data_frame_sample):\n",
        "#     j.to_csv(\"df_sample_\"+str(i)+\".csv\",index=False)\n",
        "#     files.download(\"df_sample_\"+str(i)+\".csv\") \n"
      ],
      "execution_count": null,
      "outputs": []
    },
    {
      "cell_type": "code",
      "metadata": {
        "id": "URpCjlN8RsW9"
      },
      "source": [
        "# from google.colab import drive\n",
        "# drive.mount('/content/drive')"
      ],
      "execution_count": null,
      "outputs": []
    },
    {
      "cell_type": "code",
      "metadata": {
        "id": "fYFcCavYl1fn"
      },
      "source": [
        "df_count_150[\"family\"].value_counts()"
      ],
      "execution_count": null,
      "outputs": []
    },
    {
      "cell_type": "code",
      "metadata": {
        "id": "SRQDWjuYrwZ6"
      },
      "source": [
        "df_count_150['class_id'].value_counts()"
      ],
      "execution_count": null,
      "outputs": []
    },
    {
      "cell_type": "code",
      "metadata": {
        "id": "5Y2i_SZKCTty"
      },
      "source": [
        "df_count_150[\"binomial\"].value_counts()"
      ],
      "execution_count": null,
      "outputs": []
    },
    {
      "cell_type": "code",
      "metadata": {
        "id": "nlZFOlLnvR7u"
      },
      "source": [
        "df_count_150['class'].value_counts()"
      ],
      "execution_count": null,
      "outputs": []
    },
    {
      "cell_type": "code",
      "metadata": {
        "id": "U-qP2Hhjvcwh"
      },
      "source": [
        ""
      ],
      "execution_count": null,
      "outputs": []
    },
    {
      "cell_type": "code",
      "metadata": {
        "id": "k7tccFsHmCZf"
      },
      "source": [
        "df_4[\"class_id\"].value_counts()"
      ],
      "execution_count": null,
      "outputs": []
    },
    {
      "cell_type": "code",
      "metadata": {
        "id": "qUIusL1Gy_7-"
      },
      "source": [
        ""
      ],
      "execution_count": null,
      "outputs": []
    },
    {
      "cell_type": "code",
      "metadata": {
        "id": "85xDOeoilaqj"
      },
      "source": [
        "# from google.colab import drive\n",
        "# drive.mount('/content/drive')"
      ],
      "execution_count": null,
      "outputs": []
    },
    {
      "cell_type": "code",
      "metadata": {
        "id": "2AA7RhZqow6W"
      },
      "source": [
        "ID = list(map(lambda x: int(x.split('-')[1]),os.listdir('./train')))\n",
        "\n",
        "\n"
      ],
      "execution_count": null,
      "outputs": []
    },
    {
      "cell_type": "code",
      "metadata": {
        "id": "lEnN5eThqPdU"
      },
      "source": [
        "ID"
      ],
      "execution_count": null,
      "outputs": []
    },
    {
      "cell_type": "code",
      "metadata": {
        "id": "Rc0bNq56jxBy"
      },
      "source": [
        "right_merged=right_merged[right_merged[\"class_id\"].isin(ID)]"
      ],
      "execution_count": null,
      "outputs": []
    },
    {
      "cell_type": "code",
      "metadata": {
        "id": "oUMoes0tqswi"
      },
      "source": [
        "right_merged=right_merged.reset_index(drop=True)"
      ],
      "execution_count": null,
      "outputs": []
    },
    {
      "cell_type": "code",
      "metadata": {
        "id": "CRYvltTwq1a-"
      },
      "source": [
        "right_merged"
      ],
      "execution_count": null,
      "outputs": []
    },
    {
      "cell_type": "code",
      "metadata": {
        "id": "J_B8ljiFxXGa"
      },
      "source": [
        "right_merged[\"image_path\"].values[0]"
      ],
      "execution_count": null,
      "outputs": []
    },
    {
      "cell_type": "code",
      "metadata": {
        "id": "FiH0aU_ttjch"
      },
      "source": [
        "UUID=set(right_merged[right_merged[\"class_id\"]==67]['UUID'].to_list())\n",
        "list1=set(os.listdir(\"./train/class-67\"))\n",
        "class_67=set(list(map(lambda x:x.split(\".\")[1],list1)))\n",
        "UUID.intersection(class_67)"
      ],
      "execution_count": null,
      "outputs": []
    },
    {
      "cell_type": "code",
      "metadata": {
        "id": "tyLRq12CCo8X"
      },
      "source": [
        "# l1=os.listdir(\"/content/train/class-4\")\n",
        "# l2=list(df_4[df_4[\"class_id\"]==4][\"image_path\"].values)\n",
        "# l2\n",
        "# def fun(x):\n",
        "#   x=x.split(\"/\")[-1]\n",
        "#   return x.split(\".\")[0]\n",
        "\n",
        "# l2=list(map(fun,l2))\n",
        "\n",
        "# l2=set(l2)\n",
        "# l1=set(l1)\n",
        "# l1.intersection(l2)"
      ],
      "execution_count": null,
      "outputs": []
    },
    {
      "cell_type": "code",
      "metadata": {
        "id": "BeB1mtOfCrXK"
      },
      "source": [
        "'''\n",
        "split data \n",
        "'''"
      ],
      "execution_count": null,
      "outputs": []
    },
    {
      "cell_type": "code",
      "metadata": {
        "id": "YQ1V-JuUZA_B"
      },
      "source": [
        "train_df,validate_df,test_df =  np.split(df, \n",
        "                       [int(.6*len(df)), int(.8*len(df))])\n"
      ],
      "execution_count": null,
      "outputs": []
    }
  ]
}